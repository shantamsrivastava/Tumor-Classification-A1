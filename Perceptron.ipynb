{
 "cells": [
  {
   "cell_type": "code",
   "execution_count": 2,
   "id": "37a4b749",
   "metadata": {},
   "outputs": [],
   "source": [
    "import import_ipynb\n",
    "import Data\n",
    "import numpy as np"
   ]
  }
 ],
 "metadata": {
  "kernelspec": {
   "display_name": "base",
   "language": "python",
   "name": "python3"
  },
  "language_info": {
   "codemirror_mode": {
    "name": "ipython",
    "version": 3
   },
   "file_extension": ".py",
   "mimetype": "text/x-python",
   "name": "python",
   "nbconvert_exporter": "python",
   "pygments_lexer": "ipython3",
   "version": "3.8.8"
  },
  "vscode": {
   "interpreter": {
    "hash": "8241c51ca8075870cd301b4c7677609d339d8e153fe05fd7709d9be3fdab28e2"
   }
  }
 },
 "nbformat": 4,
 "nbformat_minor": 5
}
