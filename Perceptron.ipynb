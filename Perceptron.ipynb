{
 "cells": [
  {
   "cell_type": "code",
   "execution_count": 1,
   "id": "37a4b749",
   "metadata": {},
   "outputs": [
    {
     "name": "stdout",
     "output_type": "stream",
     "text": [
      "importing Jupyter notebook from Data.ipynb\n"
     ]
    }
   ],
   "source": [
    "import import_ipynb\n",
    "import Data\n",
    "import numpy as np\n",
    "import pandas as pd\n",
    "import matplotlib.pyplot as plt"
   ]
  },
  {
   "cell_type": "code",
   "execution_count": 2,
   "id": "2a4ed469",
   "metadata": {},
   "outputs": [
    {
     "data": {
      "text/html": [
       "<div>\n",
       "<style scoped>\n",
       "    .dataframe tbody tr th:only-of-type {\n",
       "        vertical-align: middle;\n",
       "    }\n",
       "\n",
       "    .dataframe tbody tr th {\n",
       "        vertical-align: top;\n",
       "    }\n",
       "\n",
       "    .dataframe thead th {\n",
       "        text-align: right;\n",
       "    }\n",
       "</style>\n",
       "<table border=\"1\" class=\"dataframe\">\n",
       "  <thead>\n",
       "    <tr style=\"text-align: right;\">\n",
       "      <th></th>\n",
       "      <th>id</th>\n",
       "      <th>diagnosis</th>\n",
       "      <th>radius_mean</th>\n",
       "      <th>texture_mean</th>\n",
       "      <th>perimeter_mean</th>\n",
       "      <th>area_mean</th>\n",
       "      <th>smoothness_mean</th>\n",
       "      <th>compactness_mean</th>\n",
       "      <th>concavity_mean</th>\n",
       "      <th>concave points_mean</th>\n",
       "      <th>...</th>\n",
       "      <th>radius_worst</th>\n",
       "      <th>texture_worst</th>\n",
       "      <th>perimeter_worst</th>\n",
       "      <th>area_worst</th>\n",
       "      <th>smoothness_worst</th>\n",
       "      <th>compactness_worst</th>\n",
       "      <th>concavity_worst</th>\n",
       "      <th>concave points_worst</th>\n",
       "      <th>symmetry_worst</th>\n",
       "      <th>fractal_dimension_worst</th>\n",
       "    </tr>\n",
       "  </thead>\n",
       "  <tbody>\n",
       "    <tr>\n",
       "      <th>0</th>\n",
       "      <td>842302</td>\n",
       "      <td>M</td>\n",
       "      <td>17.99</td>\n",
       "      <td>10.38</td>\n",
       "      <td>122.80</td>\n",
       "      <td>1001.0</td>\n",
       "      <td>0.11840</td>\n",
       "      <td>0.27760</td>\n",
       "      <td>0.3001</td>\n",
       "      <td>0.14710</td>\n",
       "      <td>...</td>\n",
       "      <td>25.38</td>\n",
       "      <td>17.33</td>\n",
       "      <td>184.60</td>\n",
       "      <td>2019.0</td>\n",
       "      <td>0.1622</td>\n",
       "      <td>0.6656</td>\n",
       "      <td>0.7119</td>\n",
       "      <td>0.2654</td>\n",
       "      <td>0.4601</td>\n",
       "      <td>0.11890</td>\n",
       "    </tr>\n",
       "    <tr>\n",
       "      <th>1</th>\n",
       "      <td>842517</td>\n",
       "      <td>M</td>\n",
       "      <td>20.57</td>\n",
       "      <td>17.77</td>\n",
       "      <td>132.90</td>\n",
       "      <td>1326.0</td>\n",
       "      <td>0.08474</td>\n",
       "      <td>0.07864</td>\n",
       "      <td>0.0869</td>\n",
       "      <td>0.07017</td>\n",
       "      <td>...</td>\n",
       "      <td>24.99</td>\n",
       "      <td>23.41</td>\n",
       "      <td>158.80</td>\n",
       "      <td>1956.0</td>\n",
       "      <td>0.1238</td>\n",
       "      <td>0.1866</td>\n",
       "      <td>0.2416</td>\n",
       "      <td>0.1860</td>\n",
       "      <td>0.2750</td>\n",
       "      <td>0.08902</td>\n",
       "    </tr>\n",
       "    <tr>\n",
       "      <th>2</th>\n",
       "      <td>84300903</td>\n",
       "      <td>M</td>\n",
       "      <td>19.69</td>\n",
       "      <td>21.25</td>\n",
       "      <td>130.00</td>\n",
       "      <td>1203.0</td>\n",
       "      <td>0.10960</td>\n",
       "      <td>0.15990</td>\n",
       "      <td>0.1974</td>\n",
       "      <td>0.12790</td>\n",
       "      <td>...</td>\n",
       "      <td>23.57</td>\n",
       "      <td>25.53</td>\n",
       "      <td>152.50</td>\n",
       "      <td>1709.0</td>\n",
       "      <td>0.1444</td>\n",
       "      <td>0.4245</td>\n",
       "      <td>0.4504</td>\n",
       "      <td>0.2430</td>\n",
       "      <td>0.3613</td>\n",
       "      <td>0.08758</td>\n",
       "    </tr>\n",
       "    <tr>\n",
       "      <th>3</th>\n",
       "      <td>84348301</td>\n",
       "      <td>M</td>\n",
       "      <td>11.42</td>\n",
       "      <td>20.38</td>\n",
       "      <td>77.58</td>\n",
       "      <td>386.1</td>\n",
       "      <td>0.14250</td>\n",
       "      <td>0.28390</td>\n",
       "      <td>0.2414</td>\n",
       "      <td>0.10520</td>\n",
       "      <td>...</td>\n",
       "      <td>14.91</td>\n",
       "      <td>26.50</td>\n",
       "      <td>98.87</td>\n",
       "      <td>567.7</td>\n",
       "      <td>0.2098</td>\n",
       "      <td>0.8663</td>\n",
       "      <td>0.6869</td>\n",
       "      <td>0.2575</td>\n",
       "      <td>0.6638</td>\n",
       "      <td>0.17300</td>\n",
       "    </tr>\n",
       "    <tr>\n",
       "      <th>4</th>\n",
       "      <td>84358402</td>\n",
       "      <td>M</td>\n",
       "      <td>20.29</td>\n",
       "      <td>14.34</td>\n",
       "      <td>135.10</td>\n",
       "      <td>1297.0</td>\n",
       "      <td>0.10030</td>\n",
       "      <td>0.13280</td>\n",
       "      <td>0.1980</td>\n",
       "      <td>0.10430</td>\n",
       "      <td>...</td>\n",
       "      <td>22.54</td>\n",
       "      <td>16.67</td>\n",
       "      <td>152.20</td>\n",
       "      <td>1575.0</td>\n",
       "      <td>0.1374</td>\n",
       "      <td>0.2050</td>\n",
       "      <td>0.4000</td>\n",
       "      <td>0.1625</td>\n",
       "      <td>0.2364</td>\n",
       "      <td>0.07678</td>\n",
       "    </tr>\n",
       "  </tbody>\n",
       "</table>\n",
       "<p>5 rows × 32 columns</p>\n",
       "</div>"
      ],
      "text/plain": [
       "         id diagnosis  radius_mean  texture_mean  perimeter_mean  area_mean  \\\n",
       "0    842302         M        17.99         10.38          122.80     1001.0   \n",
       "1    842517         M        20.57         17.77          132.90     1326.0   \n",
       "2  84300903         M        19.69         21.25          130.00     1203.0   \n",
       "3  84348301         M        11.42         20.38           77.58      386.1   \n",
       "4  84358402         M        20.29         14.34          135.10     1297.0   \n",
       "\n",
       "   smoothness_mean  compactness_mean  concavity_mean  concave points_mean  \\\n",
       "0          0.11840           0.27760          0.3001              0.14710   \n",
       "1          0.08474           0.07864          0.0869              0.07017   \n",
       "2          0.10960           0.15990          0.1974              0.12790   \n",
       "3          0.14250           0.28390          0.2414              0.10520   \n",
       "4          0.10030           0.13280          0.1980              0.10430   \n",
       "\n",
       "   ...  radius_worst  texture_worst  perimeter_worst  area_worst  \\\n",
       "0  ...         25.38          17.33           184.60      2019.0   \n",
       "1  ...         24.99          23.41           158.80      1956.0   \n",
       "2  ...         23.57          25.53           152.50      1709.0   \n",
       "3  ...         14.91          26.50            98.87       567.7   \n",
       "4  ...         22.54          16.67           152.20      1575.0   \n",
       "\n",
       "   smoothness_worst  compactness_worst  concavity_worst  concave points_worst  \\\n",
       "0            0.1622             0.6656           0.7119                0.2654   \n",
       "1            0.1238             0.1866           0.2416                0.1860   \n",
       "2            0.1444             0.4245           0.4504                0.2430   \n",
       "3            0.2098             0.8663           0.6869                0.2575   \n",
       "4            0.1374             0.2050           0.4000                0.1625   \n",
       "\n",
       "   symmetry_worst  fractal_dimension_worst  \n",
       "0          0.4601                  0.11890  \n",
       "1          0.2750                  0.08902  \n",
       "2          0.3613                  0.08758  \n",
       "3          0.6638                  0.17300  \n",
       "4          0.2364                  0.07678  \n",
       "\n",
       "[5 rows x 32 columns]"
      ]
     },
     "execution_count": 2,
     "metadata": {},
     "output_type": "execute_result"
    }
   ],
   "source": [
    "df = pd.read_csv('Data Set for Assignment 1.csv')\n",
    "df.head()"
   ]
  },
  {
   "cell_type": "code",
   "execution_count": 24,
   "id": "1c184162",
   "metadata": {},
   "outputs": [],
   "source": [
    "ini_data = Data.data_fix(df)\n",
    "#shf = Data.fshuffle(ini_data)\n",
    "d1 = Data.dshuffle(ini_data)\n",
    "train, test = Data.split(d1)\n",
    "#train = Data.Feature2(train)\n",
    "#test = Data.Feature2(test)"
   ]
  },
  {
   "cell_type": "code",
   "execution_count": 15,
   "id": "fb3ee236",
   "metadata": {},
   "outputs": [
    {
     "data": {
      "text/plain": [
       "\"\\nomega = list(np.zeros(31))\\ntclass = train['diagnosis'].tolist()\\ntrain = train.drop(columns = ['id', 'diagnosis'])\\nxbias = []\\nfor i in range(len(train)):\\n    xbias.append(1)\\n\\ntrain.insert(loc = 0, column = 'bias', value = xbias, allow_duplicates = False)\\n\""
      ]
     },
     "execution_count": 15,
     "metadata": {},
     "output_type": "execute_result"
    }
   ],
   "source": [
    "'''\n",
    "omega = list(np.zeros(31))\n",
    "tclass = train['diagnosis'].tolist()\n",
    "train = train.drop(columns = ['id', 'diagnosis'])\n",
    "xbias = []\n",
    "for i in range(len(train)):\n",
    "    xbias.append(1)\n",
    "\n",
    "train.insert(loc = 0, column = 'bias', value = xbias, allow_duplicates = False)\n",
    "'''"
   ]
  },
  {
   "cell_type": "code",
   "execution_count": 4,
   "id": "4a7b9ed0",
   "metadata": {},
   "outputs": [],
   "source": [
    "# B is a positive point and M is a negative point\n",
    "def perceptron_training(train):\n",
    "    omega = list(np.zeros(31))\n",
    "    tclass = train['diagnosis'].tolist()\n",
    "    train = train.drop(columns = ['id', 'diagnosis'])\n",
    "    xbias = []\n",
    "    for i in range(len(train)):\n",
    "        xbias.append(1)\n",
    "\n",
    "    train.insert(loc = 0, column = 'bias', value = xbias, allow_duplicates = False) #Adding a bias column at position 0 to our training data\n",
    "    i = 0\n",
    "    for i in range(1000):\n",
    "        \n",
    "        while(i < len(train)):\n",
    "            x = list(train.iloc[i])\n",
    "            #x = [ f * 0.001 for f in x]\n",
    "            prod = np.dot(omega,x)\n",
    "            if(prod >= 0 and tclass[i] == 'M'):\n",
    "                omega = list(np.subtract(omega,x))\n",
    "                \n",
    "\n",
    "            elif(prod <= 0 and tclass[i] == 'B'):\n",
    "                omega = list(np.add(omega,x))\n",
    "                \n",
    "                \n",
    "            else: \n",
    "                i = i + 1\n",
    "    return omega\n"
   ]
  },
  {
   "cell_type": "code",
   "execution_count": 5,
   "id": "c6a4469b",
   "metadata": {},
   "outputs": [],
   "source": [
    "def perceptron_testing(test,omega):\n",
    "    counter = 0\n",
    "    teclass = test['diagnosis'].tolist()\n",
    "    test = test.drop(columns = ['id', 'diagnosis'])\n",
    "    ybias = []\n",
    "    for i in range(len(test)):\n",
    "        ybias.append(1)\n",
    "\n",
    "    test.insert(loc = 0, column = 'bias', value = ybias, allow_duplicates = False)\n",
    "    for i in range(len(test)):\n",
    "        xt = list(test.iloc[i])\n",
    "        pro = np.dot(omega,xt)\n",
    "        if(pro > 0 and teclass[i] == 'B'):\n",
    "            counter = counter + 1\n",
    "\n",
    "        elif(pro < 0 and teclass[i] == 'M'):\n",
    "            counter = counter + 1\n",
    "\n",
    "    accuracy = counter / len(test)\n",
    "    return accuracy\n",
    "    "
   ]
  },
  {
   "cell_type": "code",
   "execution_count": 34,
   "id": "732e9967",
   "metadata": {},
   "outputs": [],
   "source": [
    "\n",
    "accuracy = []\n",
    "for i in range(10):\n",
    "    ini_data = Data.Feature1(df)\n",
    "    #shf = Data.fshuffle(ini_data)\n",
    "    d1 = Data.dshuffle(ini_data)\n",
    "    train, test = Data.split(d1)\n",
    "    #train = Data.Feature2(train)\n",
    "    #test = Data.Feature2(test)\n",
    "    o = perceptron_training(train)\n",
    "    a = perceptron_testing(test,o)\n",
    "    accuracy.append(a)\n",
    "    "
   ]
  },
  {
   "cell_type": "code",
   "execution_count": 30,
   "id": "7ee7df90",
   "metadata": {},
   "outputs": [
    {
     "name": "stdout",
     "output_type": "stream",
     "text": [
      "0.9354838709677419\n"
     ]
    }
   ],
   "source": [
    "o = perceptron_training(train)\n",
    "a = perceptron_testing(test,o)\n",
    "print(a)"
   ]
  },
  {
   "cell_type": "code",
   "execution_count": 35,
   "id": "74a15df1",
   "metadata": {},
   "outputs": [
    {
     "data": {
      "text/plain": [
       "0.8913978494623656"
      ]
     },
     "execution_count": 35,
     "metadata": {},
     "output_type": "execute_result"
    }
   ],
   "source": [
    "np.mean(accuracy)"
   ]
  },
  {
   "cell_type": "code",
   "execution_count": 36,
   "id": "c605a4b3",
   "metadata": {},
   "outputs": [
    {
     "data": {
      "text/plain": [
       "[0.9086021505376344,\n",
       " 0.9139784946236559,\n",
       " 0.946236559139785,\n",
       " 0.8709677419354839,\n",
       " 0.8548387096774194,\n",
       " 0.8440860215053764,\n",
       " 0.8924731182795699,\n",
       " 0.9354838709677419,\n",
       " 0.8494623655913979,\n",
       " 0.8978494623655914]"
      ]
     },
     "execution_count": 36,
     "metadata": {},
     "output_type": "execute_result"
    }
   ],
   "source": [
    "accuracy"
   ]
  },
  {
   "cell_type": "code",
   "execution_count": null,
   "id": "caa92ed3",
   "metadata": {},
   "outputs": [],
   "source": []
  }
 ],
 "metadata": {
  "kernelspec": {
   "display_name": "base",
   "language": "python",
   "name": "python3"
  },
  "language_info": {
   "codemirror_mode": {
    "name": "ipython",
    "version": 3
   },
   "file_extension": ".py",
   "mimetype": "text/x-python",
   "name": "python",
   "nbconvert_exporter": "python",
   "pygments_lexer": "ipython3",
   "version": "3.8.8"
  },
  "vscode": {
   "interpreter": {
    "hash": "8241c51ca8075870cd301b4c7677609d339d8e153fe05fd7709d9be3fdab28e2"
   }
  }
 },
 "nbformat": 4,
 "nbformat_minor": 5
}
