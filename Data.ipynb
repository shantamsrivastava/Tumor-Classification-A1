{
 "cells": [
  {
   "cell_type": "markdown",
   "id": "24494779",
   "metadata": {},
   "source": [
    "# Importing Libraries"
   ]
  },
  {
   "cell_type": "code",
   "execution_count": 1,
   "id": "b691e504",
   "metadata": {},
   "outputs": [],
   "source": [
    "import pandas as pd\n",
    "import numpy as np"
   ]
  },
  {
   "cell_type": "markdown",
   "id": "89c88eac",
   "metadata": {},
   "source": [
    "# Data Handling"
   ]
  },
  {
   "cell_type": "code",
   "execution_count": 2,
   "id": "39e8e4f3",
   "metadata": {},
   "outputs": [
    {
     "data": {
      "text/html": [
       "<div>\n",
       "<style scoped>\n",
       "    .dataframe tbody tr th:only-of-type {\n",
       "        vertical-align: middle;\n",
       "    }\n",
       "\n",
       "    .dataframe tbody tr th {\n",
       "        vertical-align: top;\n",
       "    }\n",
       "\n",
       "    .dataframe thead th {\n",
       "        text-align: right;\n",
       "    }\n",
       "</style>\n",
       "<table border=\"1\" class=\"dataframe\">\n",
       "  <thead>\n",
       "    <tr style=\"text-align: right;\">\n",
       "      <th></th>\n",
       "      <th>id</th>\n",
       "      <th>diagnosis</th>\n",
       "      <th>radius_mean</th>\n",
       "      <th>texture_mean</th>\n",
       "      <th>perimeter_mean</th>\n",
       "      <th>area_mean</th>\n",
       "      <th>smoothness_mean</th>\n",
       "      <th>compactness_mean</th>\n",
       "      <th>concavity_mean</th>\n",
       "      <th>concave points_mean</th>\n",
       "      <th>...</th>\n",
       "      <th>radius_worst</th>\n",
       "      <th>texture_worst</th>\n",
       "      <th>perimeter_worst</th>\n",
       "      <th>area_worst</th>\n",
       "      <th>smoothness_worst</th>\n",
       "      <th>compactness_worst</th>\n",
       "      <th>concavity_worst</th>\n",
       "      <th>concave points_worst</th>\n",
       "      <th>symmetry_worst</th>\n",
       "      <th>fractal_dimension_worst</th>\n",
       "    </tr>\n",
       "  </thead>\n",
       "  <tbody>\n",
       "    <tr>\n",
       "      <th>0</th>\n",
       "      <td>842302</td>\n",
       "      <td>M</td>\n",
       "      <td>17.99</td>\n",
       "      <td>10.38</td>\n",
       "      <td>122.80</td>\n",
       "      <td>1001.0</td>\n",
       "      <td>0.11840</td>\n",
       "      <td>0.27760</td>\n",
       "      <td>0.3001</td>\n",
       "      <td>0.14710</td>\n",
       "      <td>...</td>\n",
       "      <td>25.38</td>\n",
       "      <td>17.33</td>\n",
       "      <td>184.60</td>\n",
       "      <td>2019.0</td>\n",
       "      <td>0.1622</td>\n",
       "      <td>0.6656</td>\n",
       "      <td>0.7119</td>\n",
       "      <td>0.2654</td>\n",
       "      <td>0.4601</td>\n",
       "      <td>0.11890</td>\n",
       "    </tr>\n",
       "    <tr>\n",
       "      <th>1</th>\n",
       "      <td>842517</td>\n",
       "      <td>M</td>\n",
       "      <td>20.57</td>\n",
       "      <td>17.77</td>\n",
       "      <td>132.90</td>\n",
       "      <td>1326.0</td>\n",
       "      <td>0.08474</td>\n",
       "      <td>0.07864</td>\n",
       "      <td>0.0869</td>\n",
       "      <td>0.07017</td>\n",
       "      <td>...</td>\n",
       "      <td>24.99</td>\n",
       "      <td>23.41</td>\n",
       "      <td>158.80</td>\n",
       "      <td>1956.0</td>\n",
       "      <td>0.1238</td>\n",
       "      <td>0.1866</td>\n",
       "      <td>0.2416</td>\n",
       "      <td>0.1860</td>\n",
       "      <td>0.2750</td>\n",
       "      <td>0.08902</td>\n",
       "    </tr>\n",
       "    <tr>\n",
       "      <th>2</th>\n",
       "      <td>84300903</td>\n",
       "      <td>M</td>\n",
       "      <td>19.69</td>\n",
       "      <td>21.25</td>\n",
       "      <td>130.00</td>\n",
       "      <td>1203.0</td>\n",
       "      <td>0.10960</td>\n",
       "      <td>0.15990</td>\n",
       "      <td>0.1974</td>\n",
       "      <td>0.12790</td>\n",
       "      <td>...</td>\n",
       "      <td>23.57</td>\n",
       "      <td>25.53</td>\n",
       "      <td>152.50</td>\n",
       "      <td>1709.0</td>\n",
       "      <td>0.1444</td>\n",
       "      <td>0.4245</td>\n",
       "      <td>0.4504</td>\n",
       "      <td>0.2430</td>\n",
       "      <td>0.3613</td>\n",
       "      <td>0.08758</td>\n",
       "    </tr>\n",
       "    <tr>\n",
       "      <th>3</th>\n",
       "      <td>84348301</td>\n",
       "      <td>M</td>\n",
       "      <td>11.42</td>\n",
       "      <td>20.38</td>\n",
       "      <td>77.58</td>\n",
       "      <td>386.1</td>\n",
       "      <td>0.14250</td>\n",
       "      <td>0.28390</td>\n",
       "      <td>0.2414</td>\n",
       "      <td>0.10520</td>\n",
       "      <td>...</td>\n",
       "      <td>14.91</td>\n",
       "      <td>26.50</td>\n",
       "      <td>98.87</td>\n",
       "      <td>567.7</td>\n",
       "      <td>0.2098</td>\n",
       "      <td>0.8663</td>\n",
       "      <td>0.6869</td>\n",
       "      <td>0.2575</td>\n",
       "      <td>0.6638</td>\n",
       "      <td>0.17300</td>\n",
       "    </tr>\n",
       "    <tr>\n",
       "      <th>4</th>\n",
       "      <td>84358402</td>\n",
       "      <td>M</td>\n",
       "      <td>20.29</td>\n",
       "      <td>14.34</td>\n",
       "      <td>135.10</td>\n",
       "      <td>1297.0</td>\n",
       "      <td>0.10030</td>\n",
       "      <td>0.13280</td>\n",
       "      <td>0.1980</td>\n",
       "      <td>0.10430</td>\n",
       "      <td>...</td>\n",
       "      <td>22.54</td>\n",
       "      <td>16.67</td>\n",
       "      <td>152.20</td>\n",
       "      <td>1575.0</td>\n",
       "      <td>0.1374</td>\n",
       "      <td>0.2050</td>\n",
       "      <td>0.4000</td>\n",
       "      <td>0.1625</td>\n",
       "      <td>0.2364</td>\n",
       "      <td>0.07678</td>\n",
       "    </tr>\n",
       "  </tbody>\n",
       "</table>\n",
       "<p>5 rows × 32 columns</p>\n",
       "</div>"
      ],
      "text/plain": [
       "         id diagnosis  radius_mean  texture_mean  perimeter_mean  area_mean  \\\n",
       "0    842302         M        17.99         10.38          122.80     1001.0   \n",
       "1    842517         M        20.57         17.77          132.90     1326.0   \n",
       "2  84300903         M        19.69         21.25          130.00     1203.0   \n",
       "3  84348301         M        11.42         20.38           77.58      386.1   \n",
       "4  84358402         M        20.29         14.34          135.10     1297.0   \n",
       "\n",
       "   smoothness_mean  compactness_mean  concavity_mean  concave points_mean  \\\n",
       "0          0.11840           0.27760          0.3001              0.14710   \n",
       "1          0.08474           0.07864          0.0869              0.07017   \n",
       "2          0.10960           0.15990          0.1974              0.12790   \n",
       "3          0.14250           0.28390          0.2414              0.10520   \n",
       "4          0.10030           0.13280          0.1980              0.10430   \n",
       "\n",
       "   ...  radius_worst  texture_worst  perimeter_worst  area_worst  \\\n",
       "0  ...         25.38          17.33           184.60      2019.0   \n",
       "1  ...         24.99          23.41           158.80      1956.0   \n",
       "2  ...         23.57          25.53           152.50      1709.0   \n",
       "3  ...         14.91          26.50            98.87       567.7   \n",
       "4  ...         22.54          16.67           152.20      1575.0   \n",
       "\n",
       "   smoothness_worst  compactness_worst  concavity_worst  concave points_worst  \\\n",
       "0            0.1622             0.6656           0.7119                0.2654   \n",
       "1            0.1238             0.1866           0.2416                0.1860   \n",
       "2            0.1444             0.4245           0.4504                0.2430   \n",
       "3            0.2098             0.8663           0.6869                0.2575   \n",
       "4            0.1374             0.2050           0.4000                0.1625   \n",
       "\n",
       "   symmetry_worst  fractal_dimension_worst  \n",
       "0          0.4601                  0.11890  \n",
       "1          0.2750                  0.08902  \n",
       "2          0.3613                  0.08758  \n",
       "3          0.6638                  0.17300  \n",
       "4          0.2364                  0.07678  \n",
       "\n",
       "[5 rows x 32 columns]"
      ]
     },
     "execution_count": 2,
     "metadata": {},
     "output_type": "execute_result"
    }
   ],
   "source": [
    "df = pd.read_csv('Data Set for Assignment 1.csv')\n",
    "df.head()"
   ]
  },
  {
   "attachments": {},
   "cell_type": "markdown",
   "id": "596a2db2",
   "metadata": {},
   "source": [
    "# Mean and Standard Deviation of each column"
   ]
  },
  {
   "cell_type": "code",
   "execution_count": 3,
   "id": "55b1d143",
   "metadata": {},
   "outputs": [],
   "source": [
    "def col_average(dataf,column):\n",
    "    sum = 0\n",
    "    count = 0\n",
    "    dataf.fillna('nan', inplace=True)\n",
    "    for i in range(len(dataf)):\n",
    "        if(dataf.iloc[i,column] != 'nan'):\n",
    "            sum = sum + dataf.iloc[i,column]\n",
    "            count = count + 1\n",
    "    \n",
    "    average = sum/count\n",
    "    return average\n"
   ]
  },
  {
   "cell_type": "code",
   "execution_count": 4,
   "id": "afb19fc2",
   "metadata": {},
   "outputs": [],
   "source": [
    "def col_stdev(dataf,column):\n",
    "    num = []\n",
    "    for i in range(len(dataf)):\n",
    "        num.append(dataf.iloc[i,column])\n",
    "\n",
    "    sd = np.std(num)\n",
    "    return sd"
   ]
  },
  {
   "attachments": {},
   "cell_type": "markdown",
   "id": "fff337fa",
   "metadata": {},
   "source": [
    "# Feature Engineering Task 1"
   ]
  },
  {
   "cell_type": "code",
   "execution_count": 5,
   "id": "82f7d93e",
   "metadata": {},
   "outputs": [],
   "source": [
    "#Returns a DataFrame based on the Original Data after Applying Feature Engineering Task 1\n",
    "\n",
    "def Feature1(dataf):\n",
    "    col = 2\n",
    "    averages = []\n",
    "    for i in range(30):\n",
    "        averages.append(col_average(dataf,col))\n",
    "        col = col + 1\n",
    "    for i in range(32):\n",
    "        if(i != 0 and i != 1):\n",
    "            for j in range(len(dataf)):\n",
    "                if(dataf.iloc[j,i] == 'nan'):\n",
    "                    dataf.iloc[j,i] = averages[i - 2]\n",
    "        \n",
    "    return dataf\n"
   ]
  },
  {
   "attachments": {},
   "cell_type": "markdown",
   "id": "316e6076",
   "metadata": {},
   "source": [
    "# Feature Engineering Task 2"
   ]
  },
  {
   "cell_type": "code",
   "execution_count": 6,
   "id": "d4d9a811",
   "metadata": {},
   "outputs": [],
   "source": [
    "#Takes a DataFrame after Feature Engineering Task 1 and applies Feature Engineering Task 2 to it\n",
    "def Feature2(dataf):\n",
    "    col = 2\n",
    "    averages = []\n",
    "    dev = []\n",
    "    dcol = 2\n",
    "    for i in range(30):\n",
    "        dev.append(col_stdev(dataf,dcol))\n",
    "        dcol = dcol + 1\n",
    "    for i in range(30):\n",
    "        averages.append(col_average(dataf,col))\n",
    "        col = col + 1\n",
    "    for i in range(32):\n",
    "        for j in range(len(dataf)):\n",
    "                if(i != 0 and i != 1):\n",
    "                     dataf.iloc[j,i] = (dataf.iloc[j,i] - averages[i - 2])/dev[i - 2]\n",
    "    return dataf\n"
   ]
  },
  {
   "attachments": {},
   "cell_type": "markdown",
   "id": "2525d115",
   "metadata": {},
   "source": [
    "# Splitting the Data into Training and Testing Data"
   ]
  },
  {
   "cell_type": "code",
   "execution_count": 7,
   "id": "0961b3b2",
   "metadata": {},
   "outputs": [],
   "source": [
    "#Inputs the Data After Feature Engineering Tasks and Splits it into Training and Testing Data, Function Returns two DataFrames\n",
    "def split(dataf):\n",
    "    dataf = dataf.sample(frac = 1) #Shuffles the DataFrame Along the Rows\n",
    "    ratio = 0.67\n",
    "    rows = dataf.shape[0]\n",
    "    train_size = int(rows * ratio)\n",
    "    train = dataf[0:train_size]\n",
    "    test = dataf[train_size:]\n",
    "    return train,test"
   ]
  },
  {
   "attachments": {},
   "cell_type": "markdown",
   "id": "12b13ae6",
   "metadata": {},
   "source": [
    "# Feature Shuffling"
   ]
  },
  {
   "cell_type": "code",
   "execution_count": 8,
   "id": "288fe22d",
   "metadata": {},
   "outputs": [],
   "source": [
    "def fshuffle(dataf):\n",
    "    dataf = dataf.sample(frac = 1, axis = 1)\n",
    "    return dataf"
   ]
  },
  {
   "attachments": {},
   "cell_type": "markdown",
   "id": "5d69472b",
   "metadata": {},
   "source": [
    "# DataSet Shuffling"
   ]
  },
  {
   "cell_type": "code",
   "execution_count": 9,
   "id": "7e5a7031",
   "metadata": {},
   "outputs": [],
   "source": [
    "def dshuffle(dataf):\n",
    "    dataf = dataf.sample(frac = 1, axis = 0)\n",
    "    return dataf"
   ]
  },
  {
   "attachments": {},
   "cell_type": "markdown",
   "id": "023c4e8b",
   "metadata": {},
   "source": [
    "# Removing Rows with empty values"
   ]
  },
  {
   "cell_type": "code",
   "execution_count": 10,
   "id": "9d6d7282",
   "metadata": {},
   "outputs": [],
   "source": [
    "def data_fix(dataf):\n",
    "    dataf.dropna(inplace = True)\n",
    "    return dataf\n"
   ]
  }
 ],
 "metadata": {
  "kernelspec": {
   "display_name": "Python 3 (ipykernel)",
   "language": "python",
   "name": "python3"
  },
  "language_info": {
   "codemirror_mode": {
    "name": "ipython",
    "version": 3
   },
   "file_extension": ".py",
   "mimetype": "text/x-python",
   "name": "python",
   "nbconvert_exporter": "python",
   "pygments_lexer": "ipython3",
   "version": "3.8.8"
  },
  "vscode": {
   "interpreter": {
    "hash": "8241c51ca8075870cd301b4c7677609d339d8e153fe05fd7709d9be3fdab28e2"
   }
  }
 },
 "nbformat": 4,
 "nbformat_minor": 5
}
